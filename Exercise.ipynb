{
 "cells": [
  {
   "cell_type": "markdown",
   "id": "ba23c226-2fb4-471c-a0a7-3f28cfc7bf99",
   "metadata": {},
   "source": [
    "# Exercise 1\n",
    "- Check in a patient named John\n",
    "- He's 20 years old\n",
    "- He's a new patient"
   ]
  },
  {
   "cell_type": "code",
   "execution_count": 37,
   "id": "3f4d1641-37f3-4bf7-8a72-600ceb4d4b26",
   "metadata": {},
   "outputs": [
    {
     "name": "stdin",
     "output_type": "stream",
     "text": [
      "Enter your name:  John\n",
      "Enter your Age:  20\n",
      "New or old patient?:  new\n"
     ]
    },
    {
     "name": "stdout",
     "output_type": "stream",
     "text": [
      "Patient named John.\n",
      "He/She is 20 years old.\n",
      "He/She is new patient.\n"
     ]
    }
   ],
   "source": [
    "name = input(\"Enter your name: \")\n",
    "age = input(\"Enter your Age: \")\n",
    "status = input(\"New or old patient?: \")\n",
    "\n",
    "print(\"Patient named \" + name + \".\")\n",
    "print(\"He/She is \" + age + \" years old\" + \".\")\n",
    "print(\"He/She is \" + status + \" patient\" + \".\")"
   ]
  },
  {
   "cell_type": "markdown",
   "id": "da194da1-c138-4d2d-823e-ace50c63d8ab",
   "metadata": {},
   "source": [
    "# Exercise 2 conversion data type\n",
    "shows the result as below:<br>First: 10.1<br>Second: 20<br>Sum: 30.1"
   ]
  },
  {
   "cell_type": "code",
   "execution_count": 19,
   "id": "d2c94a5c-7154-4382-9837-810347de885f",
   "metadata": {},
   "outputs": [
    {
     "name": "stdin",
     "output_type": "stream",
     "text": [
      "First:  10.1\n",
      "Second:  20\n"
     ]
    },
    {
     "name": "stdout",
     "output_type": "stream",
     "text": [
      "Sum: 30.1\n"
     ]
    }
   ],
   "source": [
    "First = float(input(\"First: \"))\n",
    "Second = float(input(\"Second: \"))\n",
    "Sum = str(First + Second)\n",
    "print(\"Sum: \" + Sum)"
   ]
  },
  {
   "cell_type": "markdown",
   "id": "3a302aca-1cdc-467e-b54b-535a85ebaa79",
   "metadata": {},
   "source": [
    "# Exercise 3 using if else\n",
    "shows the result as below:<br>Weight: 170<br>(K)g or (L)bs: l<br>weight in Kg: 76.5"
   ]
  },
  {
   "cell_type": "code",
   "execution_count": 27,
   "id": "05e2aabb-4a63-4180-9560-e985bf4165c4",
   "metadata": {},
   "outputs": [
    {
     "name": "stdout",
     "output_type": "stream",
     "text": [
      "Unit Converter\n"
     ]
    },
    {
     "name": "stdin",
     "output_type": "stream",
     "text": [
      "Weight:  123\n",
      "(K)g or (L)bs:  l\n"
     ]
    },
    {
     "name": "stdout",
     "output_type": "stream",
     "text": [
      "weight in Kg: 55.35\n"
     ]
    }
   ],
   "source": [
    "print(\"Unit Converter\")\n",
    "weight = float(input(\"Weight: \"))\n",
    "unit = input(\"(K)g or (L)bs: \")\n",
    "if unit.upper() == \"L\":\n",
    "    converted = weight * 0.45\n",
    "    print(f\"weight in Kg: {converted}\") # print(\"weight in Kg: \" + str(converted))\n",
    "else:\n",
    "    converted = weight * 2.2\n",
    "    print(f\"weight in Lbs: {converted}\")"
   ]
  },
  {
   "cell_type": "markdown",
   "id": "9d340a14-7319-4898-b5d7-e32fbf51c8b9",
   "metadata": {},
   "source": [
    "#### Using if and elif to show grade result"
   ]
  },
  {
   "cell_type": "code",
   "execution_count": 24,
   "id": "623a2a5d-3776-4ba2-ad9c-a2488c6b49a5",
   "metadata": {},
   "outputs": [
    {
     "name": "stdin",
     "output_type": "stream",
     "text": [
      "Your score:  77\n"
     ]
    },
    {
     "name": "stdout",
     "output_type": "stream",
     "text": [
      "Your Grade is \"B\"\n"
     ]
    }
   ],
   "source": [
    "# Grade result\n",
    "score = float(input(\"Your score: \"))\n",
    "\n",
    "if score <= 0:\n",
    "    print(\"error!!\")\n",
    "elif score <= 10:\n",
    "    print('Your Grade is \"F\"')\n",
    "elif score <= 45:\n",
    "    print('Your Grade is \"D\"')\n",
    "elif score <= 65:\n",
    "    print('Your Grade is \"c\"')\n",
    "elif score <= 80:\n",
    "    print('Your Grade is \"B\"')\n",
    "elif score <= 100:\n",
    "    print('Your Grade is \"A\"')\n",
    "else:\n",
    "    print(\"error!!\")"
   ]
  },
  {
   "cell_type": "markdown",
   "id": "c36b41dd-c68f-492d-8086-19274f57661c",
   "metadata": {},
   "source": [
    "# Exercise 4 Loop"
   ]
  },
  {
   "cell_type": "code",
   "execution_count": 16,
   "id": "0bf205c4-49a6-4adb-949a-8e05f7d0e664",
   "metadata": {},
   "outputs": [
    {
     "name": "stdin",
     "output_type": "stream",
     "text": [
      " 4\n",
      " 5\n",
      " stop\n"
     ]
    },
    {
     "name": "stdout",
     "output_type": "stream",
     "text": [
      "5.0\n"
     ]
    }
   ],
   "source": [
    "# find the max value from the set of values\n",
    "# using while loop\n",
    "# loop ends when type \"stop\"\n",
    "max_x = float(input())\n",
    "e = input()\n",
    "while e != \"stop\":\n",
    "    x = float(e)\n",
    "    if x > max_x:\n",
    "        max_x = x\n",
    "    e = input()\n",
    "print(max_x)"
   ]
  },
  {
   "cell_type": "code",
   "execution_count": 20,
   "id": "01ef5119-8b2e-4500-a20b-9efd2b839f1a",
   "metadata": {},
   "outputs": [
    {
     "name": "stdin",
     "output_type": "stream",
     "text": [
      " pizza\n"
     ]
    },
    {
     "name": "stdout",
     "output_type": "stream",
     "text": [
      "Ordered pizza\n"
     ]
    },
    {
     "name": "stdin",
     "output_type": "stream",
     "text": [
      " beef steak\n"
     ]
    },
    {
     "name": "stdout",
     "output_type": "stream",
     "text": [
      "Ordered beef steak\n"
     ]
    },
    {
     "name": "stdin",
     "output_type": "stream",
     "text": [
      " salad\n"
     ]
    },
    {
     "name": "stdout",
     "output_type": "stream",
     "text": [
      "Ordered salad\n"
     ]
    },
    {
     "name": "stdin",
     "output_type": "stream",
     "text": [
      " stop\n"
     ]
    },
    {
     "name": "stdout",
     "output_type": "stream",
     "text": [
      "Done\n"
     ]
    }
   ],
   "source": [
    "#while condition:\n",
    "#    if condition2:\n",
    "#         break\n",
    "#     กลุ่มคำสั่ง\n",
    "#กลุ่มคำสั่ง\n",
    "# loop ends when type \"stop\"\n",
    "\n",
    "## Food menu program\n",
    "\n",
    "n = 0\n",
    "while n < 5:\n",
    "    menu = input()\n",
    "    if menu.lower() == \"stop\":\n",
    "        break\n",
    "    print(\"Ordered\", menu)\n",
    "    n += 1\n",
    "print(\"Done\")"
   ]
  },
  {
   "cell_type": "markdown",
   "id": "444eec62-07cb-459e-8ce2-ef81c4b4c984",
   "metadata": {},
   "source": [
    "## Exercises:\n",
    "Write a Python program to calculate the factorial of a number using loops."
   ]
  },
  {
   "cell_type": "code",
   "execution_count": 78,
   "id": "f1f1b1c2-7c88-42df-bdb1-4b7df68a1bf1",
   "metadata": {},
   "outputs": [
    {
     "name": "stdin",
     "output_type": "stream",
     "text": [
      "Enter number for calculation:  3\n"
     ]
    },
    {
     "name": "stdout",
     "output_type": "stream",
     "text": [
      "The factorial of 3 = 6\n"
     ]
    }
   ],
   "source": [
    "# Factorial using loops\n",
    "def calculate_factorial(number): # define function\n",
    "    if number < 0: \n",
    "        return \"cannot be calcaulated\"\n",
    "        \n",
    "    factorial = 1\n",
    "    \n",
    "    for i in range(1, number + 1): # for loop\n",
    "        factorial *= i\n",
    "    return factorial\n",
    "\n",
    "# input from user\n",
    "num = int(input(\"Enter number for calculation: \"))\n",
    "result = calculate_factorial(num)\n",
    "print(f\"The factorial of {num} = {result}\")   "
   ]
  },
  {
   "cell_type": "markdown",
   "id": "8d933a05-4aa8-400c-adfe-9f315b89904c",
   "metadata": {},
   "source": [
    "## Exercises:\n",
    "Create a program that checks if a given string is a palindrome."
   ]
  },
  {
   "cell_type": "code",
   "execution_count": 77,
   "id": "308c991b-8d29-45ec-827b-aff3ea9f7939",
   "metadata": {},
   "outputs": [
    {
     "name": "stdin",
     "output_type": "stream",
     "text": [
      "Enter a text to check if it is a palindrome:  civic\n"
     ]
    },
    {
     "name": "stdout",
     "output_type": "stream",
     "text": [
      "civic is a palindrome.\n"
     ]
    }
   ],
   "source": [
    "# Palindrome checker\n",
    "# step 1 กำหนดfunction > normalize string > reverse\n",
    "def is_palindrome(string):\n",
    "    string = string.lower().replace(\" \", \"\") # Normalize the string\n",
    "    return string == string[::-1] # reverese ใช้ []\n",
    "\n",
    "# Input from the user\n",
    "# step 2: create input\n",
    "text = input(\"Enter a text to check if it is a palindrome: \")\n",
    "# step 3 if else\n",
    "if is_palindrome(text):\n",
    "    print(text + \" is a palindrome.\")\n",
    "else:\n",
    "    print(text + \" is not a palindrome.\")\n",
    "\n"
   ]
  },
  {
   "cell_type": "code",
   "execution_count": 18,
   "id": "aa089944-7497-4b0f-b7b2-4d373e738044",
   "metadata": {},
   "outputs": [
    {
     "name": "stdin",
     "output_type": "stream",
     "text": [
      ">> Ma ma\n"
     ]
    },
    {
     "name": "stdout",
     "output_type": "stream",
     "text": [
      "mama is not palindrome\n"
     ]
    }
   ],
   "source": [
    "def is_palin(string):\n",
    "    string = string.lower().replace(\" \",\"\")\n",
    "    return string == string[::-1]\n",
    "text = input(\">>\")\n",
    "if is_palin(text):\n",
    "    print(text,\"is palindrome\")\n",
    "else:\n",
    "    print((text.lower().replace(\" \",\"\")),\"is not palindrome\")\n"
   ]
  },
  {
   "cell_type": "markdown",
   "id": "09ffce78-8975-4156-835c-79553bded49d",
   "metadata": {},
   "source": [
    "## Exercise Count vowel from sentence"
   ]
  },
  {
   "cell_type": "code",
   "execution_count": 27,
   "id": "3a67b102-c236-4056-bbdd-ffd6f5061428",
   "metadata": {},
   "outputs": [
    {
     "name": "stdin",
     "output_type": "stream",
     "text": [
      "Enter a string:  AEIOU\n"
     ]
    },
    {
     "name": "stdout",
     "output_type": "stream",
     "text": [
      "Number of vowels: 5\n"
     ]
    }
   ],
   "source": [
    "def count_vowels(input_string): # Define the set of vowels\n",
    "    vowels = \"aeiou\"\n",
    "    \n",
    "    count = 0                   # Initialize a counter for vowels\n",
    "    \n",
    "    for char in input_string:   # Loop through each character in the input string\n",
    "        if char in vowels:      # Check if the character is a vowel\n",
    "            count += 1\n",
    "    return count                # Return the total number of vowels\n",
    "\n",
    "# Input from the user\n",
    "input_string = input(\"Enter a string: \").lower()\n",
    "\n",
    "# Count vowels and display the result\n",
    "vowel_count = count_vowels(input_string)\n",
    "print(f\"Number of vowels: {vowel_count}\")\n"
   ]
  },
  {
   "cell_type": "code",
   "execution_count": 4,
   "id": "396ba231-439e-4bd9-af99-a554cac2cd7e",
   "metadata": {},
   "outputs": [
    {
     "name": "stdin",
     "output_type": "stream",
     "text": [
      ">> AEIOU\n"
     ]
    },
    {
     "name": "stdout",
     "output_type": "stream",
     "text": [
      "number of vowel: 5.\n"
     ]
    }
   ],
   "source": [
    "def count_vowel(input_string):\n",
    "    vowels = \"aeiou\"\n",
    "    count = 0\n",
    "    for char in input_string:\n",
    "        if char in vowels:\n",
    "            count += 1\n",
    "    return count\n",
    "input_string = input(\">>\").lower()\n",
    "vowel_count = count_vowel(input_string)\n",
    "print(f\"number of vowel: {vowel_count}.\")"
   ]
  }
 ],
 "metadata": {
  "kernelspec": {
   "display_name": "Python [conda env:base] *",
   "language": "python",
   "name": "conda-base-py"
  },
  "language_info": {
   "codemirror_mode": {
    "name": "ipython",
    "version": 3
   },
   "file_extension": ".py",
   "mimetype": "text/x-python",
   "name": "python",
   "nbconvert_exporter": "python",
   "pygments_lexer": "ipython3",
   "version": "3.12.7"
  }
 },
 "nbformat": 4,
 "nbformat_minor": 5
}
